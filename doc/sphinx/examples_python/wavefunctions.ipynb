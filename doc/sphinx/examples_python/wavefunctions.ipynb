{
 "cells": [
  {
   "cell_type": "markdown",
   "metadata": {},
   "source": [
    "# Radial Wavefunctions and Quantum Defects\n",
    "\n",
    "In this tutorial we show how to access quantum defects and wavefunctions, which are used for the computation of matrix elements, using the Python API.  Some aspects of this are discussed in Appendix A of the pairinteraction paper [doi:10.1088/1361-6455/aa743a](https://doi.org/10.1088/1361-6455/aa743a), ([arXiv:1612.08053](https://arxiv.org/abs/1612.08053)).\n",
    "\n",
    "This feature is mostly used internally and therefore the interfaces are not so user-friendly.\n",
    "\n",
    "Ahead of our Python code, we call an IPython magic function to make the output of plotting commands displayed inline within the notebook."
   ]
  },
  {
   "cell_type": "code",
   "execution_count": 1,
   "metadata": {},
   "outputs": [],
   "source": [
    "%matplotlib inline"
   ]
  },
  {
   "cell_type": "markdown",
   "metadata": {},
   "source": [
    "Our code starts with loading the required modules for the computation. It is irrelevant whether we use the `pireal` or `picomplex` modules here, because we do not calculate any matrix elements."
   ]
  },
  {
   "cell_type": "code",
   "execution_count": 2,
   "metadata": {},
   "outputs": [],
   "source": [
    "# Arrays\n",
    "import numpy as np\n",
    "\n",
    "# Plotting\n",
    "import matplotlib.pyplot as plt\n",
    "\n",
    "# Operating system interfaces\n",
    "import sys\n",
    "\n",
    "# pairinteraction :-)\n",
    "if sys.platform == \"darwin\": sys.path.append(\"/Applications/pairinteraction.app/Contents/Resources\")\n",
    "elif sys.platform == \"win32\": sys.path.append(\"C:\\Program Files\\pairinteraction\")\n",
    "from libpairinteraction import pireal as pi"
   ]
  },
  {
   "cell_type": "markdown",
   "metadata": {},
   "source": [
    "Keep in mind that pairinteraction is a **Rydberg** interaction calculator.  All techniques presented below work well for the high-$n$ states of Rydberg atoms, but fail miserably for low-lying states.\n",
    "\n",
    "While the pairinteraction software normally uses the unit system described in the [introduction](https://pairinteraction.github.io/pairinteraction/sphinx/html/introduction.html#units), for the wavefunction it has proven advantageous to perform the calculation in atomic units, i.e. all units below are atomic units (in contrast to the presentation in Appendix A of the [pairinteraction paper](https://doi.org/10.1088/1361-6455/aa743a), where we use SI units throughout).\n",
    "\n",
    "## Coulomb wavefunctions\n",
    "\n",
    "Using non-relativistic quantum defect theory it is possible to find radial wavefunctions.  Therefore the Schrödinger equation is solved for a *given* energy eigenvalue, which results in modified radial wavefunctions with an effective (non-integer) quantum number $n^*$.  The derivation is discussed in more detail in M. J. Seaton, [Reports on Progress in Physics **46**, 167 (1983)](http://dx.doi.org/10.1088/0034-4885/46/2/002) (around equation 2.77).\n",
    "\n",
    "$$\n",
    "  \\Psi^{\\text{rad}}_{n^*l}(r) = \\frac{1}{\\sqrt{n^{*2} \\Gamma(n^*+l+1) \\Gamma(n^*-l)}}\n",
    "  W_{n^*,l+1/2}\\left( \\frac{2 r}{n^*} \\right).\n",
    "$$\n",
    "\n",
    "where $\\Gamma(z)$ is the Gamma function and $W_{k,m}(z)$ is the so-called Whittaker function.  These wavefunctions are highly accurate for large distances and have the correct binding energy.  You can access these wavefunctions in pairinteraction using the `Whittaker` class.\n",
    "\n",
    "## Numerov's method and model potentials\n",
    "\n",
    "### Model potentials\n",
    "\n",
    "Another method to determine the radial wavefunctions is by solving the Schrödinger equation numerically using an *effective* Coulomb potential.  The so-called model potential is usually decomposed into three contributions\n",
    "\n",
    "$$\n",
    "  V_{\\text{mod}}(r) = V_{\\text{C}}(r) + V_{\\text{P}}(r) + V_{\\text{s.o.}}(r).\n",
    "$$\n",
    "\n",
    "The first term is the charge contribution resulting from the charged core which is screened by the filled electron shells\n",
    "\n",
    "$$\n",
    "  % (18a) in Dalgarno1994\n",
    "  V_{\\mathrm{C}}(r) = - \\frac{1 + (Z-1)\\mathrm{e}^{-\\alpha_1 r} - r(\\alpha_3+\\alpha_4 r)\\mathrm{e}^{-\\alpha_2 r}}{r},\n",
    "$$\n",
    "\n",
    "with coefficients $\\alpha_{1,2,3,4}$ depending on the atomic species and the orbital angular momentum $l$.  These coefficients are provided with pairinteraction in an embedded database.  It is possible to substitute these coefficients with your own at runtime.\n",
    "\n",
    "For the core polarization, only the leading dipole term is considered, which results in:\n",
    "\n",
    "$$\n",
    "  V_{\\mathrm{P}}(r) = -\\frac{\\alpha_d}{2 r^4} \\left[ 1 - \\mathrm{e}^{-(r/r_c)^6} \\right].\n",
    "$$\n",
    "\n",
    "Here, $\\alpha_d$ is again the core dipole polarizability and $r_c$ is the effective core size, obtained by comparing the numerical solutions with the experimentally observed energy levels.\n",
    "\n",
    "In addition to these two terms, we add an effective expression for the spin-orbit interaction\n",
    "\n",
    "$$\n",
    "  V_{\\mathrm{s.o.}}(r > r_c) = \\frac{2 \\alpha}{r^3} \\mathbf{l}\\cdot\\mathbf{s} = \\frac{\\alpha}{r^3} [j(j+1) - l(l+1) - s(s+1)].\n",
    "$$\n",
    "\n",
    "where $\\alpha\\approx1/137$ is the fine-structure constant.\n",
    "\n",
    "### Numerov's method\n",
    "\n",
    "Numerov's method can be used to solve differential equations of the form\n",
    "\n",
    "$$\n",
    "  \\frac{d^2 y}{d x^2} + g(x) y(x) = 0.\n",
    "$$\n",
    "\n",
    "The iterative solution can be achieved as follows:\n",
    "\n",
    "$$\n",
    "  y_{n+1} \\left( 1 - \\frac{h^2}{12} g_{n+1} \\right)\n",
    "  = \\left( 2 + \\frac{5 h^2}{6} g_{n} \\right) y_{n}\n",
    "  - \\left( 1 - \\frac{h^2}{12} g_{n-1} \\right) y_{n-1}\n",
    "  + \\mathcal{O}(h^6).\n",
    "$$\n",
    "\n",
    "where $y_{n}=y(x_{n})$, $g_{n}=g(x_{n})$, $s_{n}=s(x_{n})$, and $h=x_{n+1}-x_{n}$.\n",
    "\n",
    "To save space it is useful to reduce the sampling towards large distances from the core as the periods of osciallations become longer and longer.  To this end we introduce the square root scaling:\n",
    "\n",
    "$$\n",
    "   x = \\sqrt{r} \\;,\\quad X^{\\text{rad}}_{nlj}(x) = x^{3/2} \\Psi^{\\text{rad}}_{nlj}(r).\n",
    "$$\n",
    "\n",
    "This scaling keeps the number of grid points between nodes of the wave function constant.  In this scaling the $g(r)$ in Numerov's method is given by\n",
    "\n",
    "$$\n",
    "  g(r) = \\frac{(2 l + 1/2)(2 l + 3/2)}{r} + 8 r (V_{\\text{mod}}(r) - E).\n",
    "$$\n",
    "\n",
    "We integrate the equation from outside to inside.  Since the wavefunction has to decay to zero at infinity we choose $y_0 = 0$. Now depending on the number of nodes of wavefunction we decide whether to set $y_1 = \\pm\\epsilon$, where $\\epsilon$ is a small number.  As the inner cutoff we choose an augmented version of the classical turning point\n",
    "\n",
    "$$\n",
    "  r_{\\text{min}} = n^2 - n \\sqrt{n^2 - (l-1)^2}.\n",
    "$$\n",
    "\n",
    "Other schemes for terminating the integration exist which are based on identifying nodes but for large $n$ the augmented classical turning point works well and is easy to implement."
   ]
  },
  {
   "cell_type": "markdown",
   "metadata": {},
   "source": [
    "## Quantum defects and model potential in pairinteraction\n",
    "\n",
    "The model potentials and quantum defects are stored in a database which is shipped together with pairinteraction.  For performance reasons it is baked into the binary so that it is available in memory at all times.  The internal database can also be swapped out with a user-provided one at runtime.\n",
    "\n",
    "To obtain the parameters from the database we use the `QuantumDefect` class."
   ]
  },
  {
   "cell_type": "code",
   "execution_count": 3,
   "metadata": {},
   "outputs": [],
   "source": [
    "qd = pi.QuantumDefect(\"Rb\", 50, 0, 0.5)"
   ]
  },
  {
   "cell_type": "markdown",
   "metadata": {},
   "source": [
    "The parameters of the model potentials can be accessed like member variables of the `qd` object.  They have mnemonic names to mirror their meaning in the model potentials presented above."
   ]
  },
  {
   "cell_type": "code",
   "execution_count": 4,
   "metadata": {},
   "outputs": [
    {
     "name": "stdout",
     "output_type": "stream",
     "text": [
      "Core polarizability: ac = 9.076\n",
      "Effective coulomb potential\n",
      "    Z = 37 (core charge)\n",
      "    a1 = 3.69628474\n",
      "    a2 = 1.64915255\n",
      "    a3 = -9.86069196\n",
      "    a4 = 0.19579987\n",
      "Effective core radius: rc = 1.66242117\n"
     ]
    }
   ],
   "source": [
    "print(\"Core polarizability: ac =\",qd.ac)\n",
    "print(\"Effective coulomb potential\")\n",
    "print(\"    Z =\",qd.Z,\"(core charge)\")\n",
    "print(\"    a1 =\",qd.a1)\n",
    "print(\"    a2 =\",qd.a2)\n",
    "print(\"    a3 =\",qd.a3)\n",
    "print(\"    a4 =\",qd.a4)\n",
    "print(\"Effective core radius: rc =\",qd.rc)"
   ]
  },
  {
   "cell_type": "markdown",
   "metadata": {},
   "source": [
    "The effective principal quantum number in quantum defect theory is defined as series expansion\n",
    "\n",
    "$$\n",
    "  n^* = n - \\delta_{nlj}\n",
    "  \\quad\\text{with}\\quad\n",
    "  \\delta_{nlj} = \\delta_0\n",
    "  + \\frac{\\delta_2}{(n-\\delta_0)^2}\n",
    "  + \\frac{\\delta_4}{(n-\\delta_0)^4}\n",
    "  + \\frac{\\delta_6}{(n-\\delta_0)^6} .\n",
    "$$\n",
    "\n",
    "Similarly the effective energy eigenvalues are given as\n",
    "\n",
    "$$\n",
    "  E_{nlj} = - \\frac{1}{2 R_\\infty} \\frac{R^*}{n^{*2}} .\n",
    "$$\n",
    "\n",
    "The parameters $\\delta_{0,2,4,6,\\dots}$ and $R^*$ are also loaded from the database, but since they are only important for the calculation of $n^*$ and $E_{nlj}$ there is no interface to query their values.  The quantities $n^*$ and $E_{nlj}$, however, can be queried."
   ]
  },
  {
   "cell_type": "code",
   "execution_count": 5,
   "metadata": {},
   "outputs": [
    {
     "name": "stdout",
     "output_type": "stream",
     "text": [
      "Effective quantum number: n* = 46.868737950193115\n",
      "State energy: E(n*) = -1497.6342916553963\n"
     ]
    }
   ],
   "source": [
    "print(\"Effective quantum number: n* =\",qd.nstar)\n",
    "print(\"State energy: E(n*) =\",qd.energy)"
   ]
  },
  {
   "cell_type": "markdown",
   "metadata": {},
   "source": [
    "Even though these parameters can be accessed like member variables, they are read-only values and attempting to change them will result in an error."
   ]
  },
  {
   "cell_type": "markdown",
   "metadata": {},
   "source": [
    "## Radial wavefunction in pairinteraction\n",
    "\n",
    "Two types of radial wavefunctions are available in pairinteraction:\n",
    "\n",
    "1. The numerical wavefunctions computed using Numerov's method and the model potentials.\n",
    "2. The analytical Coulomb wavefunctions based on the Whittaker functions.\n",
    "\n",
    "Those two schemes can accessed by classes with the names of their underlying method, `Numerov` and `Whittaker`.  Merely instatiating an object of either class only allocates memory but does not perform any computations.  To actually run the integration, you have to call the `integrate()` member function."
   ]
  },
  {
   "cell_type": "code",
   "execution_count": 6,
   "metadata": {},
   "outputs": [],
   "source": [
    "n = pi.Numerov(qd).integrate()\n",
    "w = pi.Whittaker(qd).integrate()"
   ]
  },
  {
   "cell_type": "markdown",
   "metadata": {},
   "source": [
    "The wavefunctions which you obtain from these methods are unscaled, i.e. they have their original scaling as defined by the calculation.  For the Coulomb functions this is the natural linear scaling, but the numerical wavefunctions are still square root scaled.  This is because in the calculation of matrix elements we only care about the overlap and we don't want to pay the extra cost of rescaling.  However, it is very easy to restore a linear scaling for the numerical wavefunctions as shown in the following plot."
   ]
  },
  {
   "cell_type": "code",
   "execution_count": 7,
   "metadata": {},
   "outputs": [
    {
     "data": {
      "image/png": "[encoded data removed]",
      "text/plain": [
       "<matplotlib.figure.Figure at 0x7f6478e15668>"
      ]
     },
     "metadata": {},
     "output_type": "display_data"
    }
   ],
   "source": [
    "plt.xlabel(\"$r$ ($a_0$)\")\n",
    "plt.ylabel(\"$|\\psi(r)|^2$ [a.u.]\")\n",
    "plt.plot(n[:,0]**2,n[:,0]*np.abs(n[:,1])**2,'-',label=\"numeric WF\")\n",
    "plt.plot(w[:,0],np.abs(w[:,1])**2,'--',label=\"Coulomb WF\")\n",
    "plt.legend();"
   ]
  }
 ],
 "metadata": {
  "kernelspec": {
   "display_name": "Python 3",
   "language": "python",
   "name": "python3"
  },
  "language_info": {
   "codemirror_mode": {
    "name": "ipython",
    "version": 3
   },
   "file_extension": ".py",
   "mimetype": "text/x-python",
   "name": "python",
   "nbconvert_exporter": "python",
   "pygments_lexer": "ipython3",
   "version": "3.6.3"
  }
 },
 "nbformat": 4,
 "nbformat_minor": 2
}
