{
 "cells": [
  {
   "cell_type": "markdown",
   "metadata": {},
   "source": [
    "# Dispersion Coefficients Near Surfaces"
   ]
  },
  {
   "cell_type": "code",
   "execution_count": 1,
   "metadata": {},
   "outputs": [],
   "source": [
    "%matplotlib inline\n",
    "\n",
    "# Arrays\n",
    "import numpy as np\n",
    "\n",
    "# Plotting\n",
    "import matplotlib.pyplot as plt\n",
    "\n",
    "# Operating system interfaces\n",
    "import os, sys\n",
    "\n",
    "# Parallel computing\n",
    "if sys.platform != \"win32\": from multiprocessing import Pool\n",
    "\n",
    "# pairinteraction :-)\n",
    "if sys.platform == \"darwin\": sys.path.append(\"/Applications/pairinteraction.app/Contents/Resources\")\n",
    "elif sys.platform == \"win32\": sys.path.append(\"C:\\Program Files\\pairinteraction\")\n",
    "from libpairinteraction import pireal as pi\n",
    "\n",
    "# Create cache for matrix elements\n",
    "if not os.path.exists(\"./cache\"):\n",
    "    os.makedirs(\"./cache\")\n",
    "cache = pi.MatrixElementCache(\"./cache\")"
   ]
  },
  {
   "cell_type": "code",
   "execution_count": 3,
   "metadata": {},
   "outputs": [],
   "source": [
    "theta = np.pi/2 # rad\n",
    "distance_atoms = 20 # µm\n",
    "distance_surface = np.linspace(max(distance_atoms*0.3, distance_atoms/2*np.cos(theta)), 2*distance_atoms,50) # µm"
   ]
  },
  {
   "cell_type": "code",
   "execution_count": 4,
   "metadata": {},
   "outputs": [],
   "source": [
    "state_one1 = pi.StateOne(\"Rb\", 69, 0, 0.5, 0.5)\n",
    "state_one2 = pi.StateOne(\"Rb\", 72, 0, 0.5, 0.5)"
   ]
  },
  {
   "cell_type": "code",
   "execution_count": 5,
   "metadata": {},
   "outputs": [
    {
     "data": {
      "image/png": "[encoded data removed]",
      "text/plain": [
       "<matplotlib.figure.Figure at 0x10bce5a58>"
      ]
     },
     "metadata": {},
     "output_type": "display_data"
    }
   ],
   "source": [
    "# Set up pair state\n",
    "state_two = pi.StateTwo(state_one1, state_one2)\n",
    "\n",
    "# Set up one-atom system\n",
    "system_one = pi.SystemOne(state_one1.getSpecies(), cache)\n",
    "system_one.restrictEnergy(min(state_one1.getEnergy(),state_one2.getEnergy()) - 30, \\\n",
    "                          max(state_one1.getEnergy(),state_one2.getEnergy()) + 30)\n",
    "system_one.restrictN(min(state_one1.getN(),state_one2.getN()) - 3, \\\n",
    "                     max(state_one1.getN(),state_one2.getN()) + 3)\n",
    "system_one.restrictL(min(state_one1.getL(),state_one2.getL()) - 1, \\\n",
    "                     max(state_one1.getL(),state_one2.getL()) + 1)\n",
    "        \n",
    "# Set up two-atom system\n",
    "system_two = pi.SystemTwo(system_one, system_one, cache)\n",
    "system_two.restrictEnergy(state_two.getEnergy() - 10, state_two.getEnergy() + 10)\n",
    "system_two.setConservedParityUnderPermutation(pi.ODD)\n",
    "system_two.setConservedParityUnderInversion(pi.ODD)\n",
    "\n",
    "system_two.setAngle(theta)\n",
    "system_two.setDistance(distance_atoms)\n",
    "system_two.setSurfaceDistance(1)\n",
    "system_two.enableGreenTensor(True)\n",
    "system_two.buildInteraction()\n",
    "\n",
    "# Calculate C6 coefficients\n",
    "C6 = []\n",
    "for d in distance_surface:\n",
    "    system_two.setSurfaceDistance(d)\n",
    "    system_two.diagonalize()\n",
    "    energyshift = system_two.getHamiltonian().diagonal()[system_two.getBasisvectorIndex(state_two)]-state_two.getEnergy()\n",
    "    C6.append(energyshift*distance_atoms**6)\n",
    "\n",
    "# Plot results\n",
    "plt.plot(distance_surface/distance_atoms, np.abs(C6))\n",
    "plt.xlim(min(distance_surface/distance_atoms), max(distance_surface/distance_atoms))\n",
    "plt.xlabel(\"distance to surface / interatomic distance\")\n",
    "plt.ylabel(\"|C$_6$| (GHz $\\mu m^6$)\");"
   ]
  }
 ],
 "metadata": {
  "kernelspec": {
   "display_name": "Python 3",
   "language": "python",
   "name": "python3"
  },
  "language_info": {
   "codemirror_mode": {
    "name": "ipython",
    "version": 3
   },
   "file_extension": ".py",
   "mimetype": "text/x-python",
   "name": "python",
   "nbconvert_exporter": "python",
   "pygments_lexer": "ipython3",
   "version": "3.6.5"
  }
 },
 "nbformat": 4,
 "nbformat_minor": 1
}
