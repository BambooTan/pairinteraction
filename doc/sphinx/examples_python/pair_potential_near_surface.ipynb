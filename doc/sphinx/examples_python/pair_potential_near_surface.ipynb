{
 "cells": [
  {
   "cell_type": "markdown",
   "metadata": {},
   "source": [
    "# Rydberg Pair Potentials Near Surfaces"
   ]
  },
  {
   "cell_type": "markdown",
   "metadata": {},
   "source": [
    "This tutorial is based on results that were published by J. Block and S. Scheel, \"van der Waals interaction potential between Rydberg atoms near surfaces\" [Physical Review A 96.6 (2017):062509](https://journals.aps.org/pra/abstract/10.1103/PhysRevA.96.062509). We will reproduce the pair potentials shown in Figure 4. The final result is that for states around the $70p_{3/2}70p_{3/2}$-asymptote of Rubidium the strength of the pair interaction is reduced when placing the atoms in front of a perfect mirror (perfectly conducting plate) compared to the vacuum interaction."
   ]
  },
  {
   "cell_type": "markdown",
   "metadata": {},
   "source": [
    "As described in the [introduction](https://pairinteraction.github.io/pairinteraction/sphinx/html/introduction.html), we start our code with some preparations and load the necessary modules.\n",
    "\n",
    "In case you encounter the error message \n",
    "\"ModuleNotFoundError: No module named 'libpairinteraction'\", add the following line right before \"from libpairinteraction import pireal as pi\":\n",
    "`sys.path.append(\"/your/path/to/pairinteraction/build\")`"
   ]
  },
  {
   "cell_type": "code",
   "execution_count": 1,
   "metadata": {},
   "outputs": [],
   "source": [
    "%matplotlib inline\n",
    "\n",
    "# Arrays\n",
    "import numpy as np\n",
    "\n",
    "# Plotting\n",
    "import matplotlib.pyplot as plt\n",
    "from itertools import product\n",
    "\n",
    "# Operating system interfaces\n",
    "import os, sys\n",
    "\n",
    "# Parallel computing\n",
    "from multiprocessing import Pool\n",
    "\n",
    "# pairinteraction :-)\n",
    "if sys.platform == \"darwin\": sys.path.append(\"/Applications/pairinteraction.app/Contents/Resources\")\n",
    "elif sys.platform == \"win32\": sys.path.append(\"C:\\Program Files\\pairinteraction\")\n",
    "#sys.path.append(\"/your/path/to/pairinteraction/build\")\n",
    "from libpairinteraction import pireal as pi\n",
    "\n",
    "# Create cache for matrix elements\n",
    "if not os.path.exists(\"./cache\"):\n",
    "    os.makedirs(\"./cache\")\n",
    "cache = pi.MatrixElementCache(\"./cache\")"
   ]
  },
  {
   "cell_type": "markdown",
   "metadata": {},
   "source": [
    "We can set the angle between the interatomic axis and the z-axis `theta` and the center of mass distance from the surface `distance_surface`. `distance_atom` defines the interatomic distances for which the pair potential is plotted. The units of the respective quantities are given as comments.\n",
    "\n",
    "$\\textit{Be}$ $\\textit{careful}$: `theta = np.pi/2` corresponds to horizontal alignment of the two atoms with respect to the surface. For different angles, large interatomic distances `distance_atom` might lead to one of the atoms being placed inside the plate. Make sure that `distance_surface` > `distance_atom*np.cos(theta)/2`. "
   ]
  },
  {
   "cell_type": "code",
   "execution_count": 2,
   "metadata": {},
   "outputs": [],
   "source": [
    "theta = np.pi/2 # rad\n",
    "distance_atom = np.linspace(6, 1.5, 50) # µm\n",
    "distance_surface = 1 # µm"
   ]
  },
  {
   "cell_type": "markdown",
   "metadata": {},
   "source": [
    "We provide a simple picture of the 2 atoms in front of the plate. Atomic radii are not to scale, `theta` is displayed.\n"
   ]
  },
  {
   "cell_type": "code",
   "execution_count": 59,
   "metadata": {
    "scrolled": true
   },
   "outputs": [
    {
     "data": {
      "image/png": "[encoded data removed]",
      "text/plain": [
       "<Figure size 432x288 with 1 Axes>"
      ]
     },
     "metadata": {
      "needs_background": "light"
     },
     "output_type": "display_data"
    }
   ],
   "source": [
    "from matplotlib import pyplot\n",
    "from matplotlib.patches import Circle\n",
    "from matplotlib.patches import Rectangle\n",
    "from matplotlib.patches import Arc\n",
    "\n",
    "fig, ax = pyplot.subplots()\n",
    "\n",
    "# Make the atoms; rotate so they are viewable with no z coordinates.\n",
    "#setup atoms\n",
    "atom_distance = distance_atom[1]\n",
    "surface_distance = distance_surface\n",
    "\n",
    "#setup half space\n",
    "cornerleftx = -15\n",
    "cornerlefty = min(-10,-atom_distance-5)\n",
    "rectanglewidth = abs(cornerleftx)\n",
    "rectangleheight = max(20,atom_distance+5)\n",
    "halfspace = Rectangle((cornerleftx,cornerlefty),rectanglewidth,rectangleheight,angle=0.0,hatch='/ ',fill=False, alpha=1)\n",
    "ax.add_patch(halfspace)\n",
    "ax.annotate('infinite \\nhalf space', xy=(0, 0), xytext=(-12,0),fontsize=18, color='xkcd:red', rotation=-45)\n",
    "\n",
    "#atom coordinates\n",
    "z1 = surface_distance - atom_distance*np.cos(theta)/2\n",
    "x1 = atom_distance*np.sin(theta)/2\n",
    "z2 = surface_distance + atom_distance*np.cos(theta)/2\n",
    "x2 = -atom_distance*np.sin(theta)/2\n",
    "\n",
    "\n",
    "#draw atom 1 as a circle\n",
    "atom1 = Circle((z1,x1), 1 , color='xkcd:silver',edgecolor='k', linewidth=1,alpha=1, label='atom 1')\n",
    "ax.add_patch(atom1)\n",
    "ax.annotate('atom 1', xy=(0, 0), xytext=(z1+2,x1+1),fontsize=15)\n",
    "\n",
    "#draw atom 2 as a circle\n",
    "atom2 = Circle((z2,x2), 1 , color='xkcd:grey teal',edgecolor='k', linewidth=1,alpha=1, label='atom 2')\n",
    "ax.add_patch(atom2)\n",
    "ax.annotate('atom 2', xy=(0, 0), xytext=(z2+2,x2-1),fontsize=15)\n",
    "\n",
    "#draw interatomic axis\n",
    "line = ax.plot([z1,z2],[x1,x2], alpha=0.5, label='atomic distance')\n",
    "\n",
    "#draw perpendicular line to surface through interatomic axis\n",
    "ax.plot([max(0,surface_distance-3),max(4,surface_distance+3)],[0,0], alpha=0.5, linestyle='--')\n",
    "\n",
    "#draw arc for theta\n",
    "arc1 = Arc((surface_distance, 0),2,2,angle=0,theta1=-theta*180/np.pi,theta2=0,lw=1)\n",
    "ax.add_patch(arc1)\n",
    "ax.annotate('$\\displaystyle\\\\theta$', xy=(surface_distance+0.5, -0.5), xytext=(surface_distance+5,-2.5),fontsize=25, usetex=True, arrowprops=dict(facecolor='black', shrink=50,width=0.1,headwidth=5))\n",
    "\n",
    "# Hide the right and top spines\n",
    "ax.spines['right'].set_visible(False)\n",
    "ax.spines['top'].set_visible(False)\n",
    "ax.set_xlim((cornerleftx,max(20,z1+5,z2+5)))\n",
    "ax.set_ylim((min(cornerlefty,x1-5,x2-5),max(cornerlefty+rectangleheight,x1+5,x2+5)))\n",
    "\n",
    "# Enforce the circles are round (equal x and y scales) and turn off\n",
    "# tickmarks.\n",
    "#ax.axis('equal')\n",
    "\n",
    "plt.xlabel(\"$z$-axis\", fontsize=20)\n",
    "#plt.set_xlim([-10,20])\n",
    "plt.ylabel(\"$x$-axis\", fontsize=20)\n",
    "plt.show()"
   ]
  },
  {
   "cell_type": "markdown",
   "metadata": {},
   "source": [
    "Next we define the state that we are interested in using pairinteraction's `StateOne` class . As shown in Figures 4 and 5 of [Physical Review A 96.6 (2017):062509](https://journals.aps.org/pra/abstract/10.1103/PhysRevA.96.062509) we expect changes of about 50% for the $C_6$ coefficient of the $|69s_{1/2},m_j=1/2;72s_{1/2},m_j=1/2\\rangle$ pair state, so this provides a good example. \n",
    "\n",
    "We set up the one-atom system using restrictions of energy, main quantum number n and angular momentum l. This is done by means of the `restrict...` functions in `SystemOne`."
   ]
  },
  {
   "cell_type": "code",
   "execution_count": 52,
   "metadata": {},
   "outputs": [],
   "source": [
    "state_one1 = pi.StateOne(\"Rb\", 69, 0, 0.5, 0.5)\n",
    "state_one2 = pi.StateOne(\"Rb\", 72, 0, 0.5, 0.5)\n",
    "\n",
    "# Set up one-atom system\n",
    "system_one = pi.SystemOne(state_one1.getSpecies(), cache)\n",
    "system_one.restrictEnergy(min(state_one1.getEnergy(),state_one2.getEnergy()) - 50, \\\n",
    "                          max(state_one1.getEnergy(),state_one2.getEnergy()) + 50)\n",
    "system_one.restrictN(min(state_one1.getN(),state_one2.getN()) - 2, \\\n",
    "                     max(state_one1.getN(),state_one2.getN()) + 2)\n",
    "system_one.restrictL(min(state_one1.getL(),state_one2.getL()) - 2, \\\n",
    "                     max(state_one1.getL(),state_one2.getL()) + 2)\n"
   ]
  },
  {
   "cell_type": "markdown",
   "metadata": {},
   "source": [
    "The pair state `state_two` is created from the one atom states `state_one1` and `state_one2` using the `StateTwo` class.\n",
    "\n",
    "From the previously set up system_one we define system_two using `SystemTwo` class. This class also contains methods `set..` to set angle, distance, surface distance and to `enableGreenTensor` in order implement a surface."
   ]
  },
  {
   "cell_type": "code",
   "execution_count": 53,
   "metadata": {
    "scrolled": true
   },
   "outputs": [],
   "source": [
    "# Set up pair state\n",
    "state_two = pi.StateTwo(state_one1, state_one2)\n",
    "\n",
    "\n",
    "# Set up two-atom system\n",
    "system_two = pi.SystemTwo(system_one, system_one, cache)\n",
    "system_two.restrictEnergy(state_two.getEnergy() - 5, state_two.getEnergy() + 5)\n",
    "\n",
    "system_two.setAngle(theta)\n",
    "system_two.enableGreenTensor(True)\n",
    "system_two.setDistance(distance_atom[0])\n",
    "system_two.setSurfaceDistance(distance_surface)\n",
    "system_two.buildInteraction()"
   ]
  },
  {
   "cell_type": "markdown",
   "metadata": {},
   "source": [
    "Next, we diagonalize the system for the given interatomic distances in distance_atom and compare the free space system to a system at `distance_surface` away from the perfect mirror. The energy is calculated with respect to a Rubidium $|70p_{3/2},m_j=3/2;70p_{3/2},m_j=3/2\\rangle$ two atom state, defined in `energyzero`."
   ]
  },
  {
   "cell_type": "code",
   "execution_count": 54,
   "metadata": {},
   "outputs": [],
   "source": [
    "# Diagonalize the two-atom system for different surface and interatomic distances\n",
    "def getDiagonalizedSystems(distances):\n",
    "    system_two.setSurfaceDistance(distances[0])\n",
    "    system_two.setDistance(distances[1])\n",
    "    system_two.diagonalize(1e-3)\n",
    "    return system_two.getHamiltonian().diagonal()\n",
    "\n",
    "if sys.platform != \"win32\":\n",
    "    with Pool() as pool:\n",
    "        energies = pool.map(getDiagonalizedSystems, product([1e12, distance_surface], distance_atom))\n",
    "else:\n",
    "    energies = list(map(getDiagonalizedSystems, product([1e12, distance_surface], distance_atom)))\n",
    "\n",
    "energyzero = pi.StateTwo([\"Rb\", \"Rb\"], [70, 70], [1, 1], [1.5, 1.5], [1.5, 1.5]).getEnergy()\n",
    "y = np.array(energies).reshape(2, -1)-energyzero\n",
    "x = np.repeat(distance_atom, system_two.getNumBasisvectors())\n"
   ]
  },
  {
   "cell_type": "markdown",
   "metadata": {},
   "source": [
    "Finally, we plot the result. Save the figure by adding \n",
    "`fig.savefig(\"/path/to/your/plots/plot.pdf\")`\n",
    "at the bottom."
   ]
  },
  {
   "cell_type": "code",
   "execution_count": 55,
   "metadata": {},
   "outputs": [
    {
     "data": {
      "image/png": "[encoded data removed]",
      "text/plain": [
       "<Figure size 432x288 with 1 Axes>"
      ]
     },
     "metadata": {
      "needs_background": "light"
     },
     "output_type": "display_data"
    }
   ],
   "source": [
    "# Plot pair potentials\n",
    "fig = plt.figure()\n",
    "ax = fig.add_subplot(1,1,1)\n",
    "ax.set_xlabel(r\"Distance ($\\mu m$)\")\n",
    "ax.set_ylabel(r\"Energy (GHz)\")\n",
    "ax.set_xlim(np.min(distance_atom),np.max(distance_atom))\n",
    "ax.set_ylim(-3, -1.6)\n",
    "ax.plot(x, y[0], 'ko', ms=3, label = 'free space')\n",
    "ax.plot(x, y[1], 'ro', ms=3, label = 'perfect mirror')\n",
    "ax.legend();\n",
    "#fig.savefig(\"/path/to/your/plots/plot.pdf\")"
   ]
  },
  {
   "cell_type": "code",
   "execution_count": null,
   "metadata": {},
   "outputs": [],
   "source": []
  }
 ],
 "metadata": {
  "kernelspec": {
   "display_name": "Python 3",
   "language": "python",
   "name": "python3"
  },
  "language_info": {
   "codemirror_mode": {
    "name": "ipython",
    "version": 3
   },
   "file_extension": ".py",
   "mimetype": "text/x-python",
   "name": "python",
   "nbconvert_exporter": "python",
   "pygments_lexer": "ipython3",
   "version": "3.6.7"
  }
 },
 "nbformat": 4,
 "nbformat_minor": 1
}
